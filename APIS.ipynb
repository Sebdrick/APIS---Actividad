{
  "nbformat": 4,
  "nbformat_minor": 0,
  "metadata": {
    "colab": {
      "provenance": []
    },
    "kernelspec": {
      "name": "python3",
      "display_name": "Python 3"
    },
    "language_info": {
      "name": "python"
    }
  },
  "cells": [
    {
      "cell_type": "code",
      "execution_count": null,
      "metadata": {
        "id": "0HGJaYQWgccn"
      },
      "outputs": [],
      "source": [
        "import requests\n",
        "\n",
        "def consumo_de_API(url):\n",
        "    respuesta = requests.get(url)\n",
        "    datos = respuesta.json()\n",
        "    if respuesta.status_code == 200:\n",
        "        return datos['data']\n",
        "    else:\n",
        "        print(\"Error al obtener las imágenes: \", datos)"
      ]
    },
    {
      "cell_type": "code",
      "source": [
        "url = \"https://fakerapi.it/api/v1/images?_quantity=1&_type=kittens&_height=300\"\n",
        "imagenes = consumo_de_API(url)\n",
        "print(imagenes)"
      ],
      "metadata": {
        "colab": {
          "base_uri": "https://localhost:8080/"
        },
        "id": "mtLYsu91h8Hh",
        "outputId": "f2b09668-4432-42b3-b324-87c2f46ee691"
      },
      "execution_count": null,
      "outputs": [
        {
          "output_type": "stream",
          "name": "stdout",
          "text": [
            "[{'title': 'Est sit consectetur aut et.', 'description': 'Quod atque sed facilis dolore quisquam voluptas molestias. Dolores laborum ratione voluptatum odio. Odit commodi qui et vero ut velit inventore eaque.', 'url': 'https://placekitten.com/600/300'}]\n"
          ]
        }
      ]
    },
    {
      "cell_type": "code",
      "source": [
        "url = \"https://fakerapi.it/api/v1/books?_quantity=1\"\n",
        "libros = consumo_de_API(url)\n",
        "print(libros)"
      ],
      "metadata": {
        "colab": {
          "base_uri": "https://localhost:8080/"
        },
        "id": "Nsj_Tb41jFm_",
        "outputId": "b99ed025-0420-4a2b-e19b-3cf27e060b35"
      },
      "execution_count": null,
      "outputs": [
        {
          "output_type": "stream",
          "name": "stdout",
          "text": [
            "[{'id': 1, 'title': \"Puss,' she began.\", 'author': 'Gunnar Gibson', 'genre': 'Odio', 'description': \"Alice, as she listened, or seemed to her usual height. It was so much about a foot high: then she noticed that the reason is--' here the conversation dropped, and the Queen merely remarking as it.\", 'isbn': '9787777590828', 'image': 'http://placeimg.com/480/640/any', 'published': '2015-04-27', 'publisher': 'Ea Quia'}]\n"
          ]
        }
      ]
    },
    {
      "cell_type": "code",
      "source": [
        "url = \"https://fakerapi.it/api/v1/persons?_quantity=1&_gender=male&_birthday_start=2005-01-01\"\n",
        "personas = consumo_de_API(url)\n",
        "print(personas)"
      ],
      "metadata": {
        "colab": {
          "base_uri": "https://localhost:8080/"
        },
        "id": "HeBy4gIjjeHy",
        "outputId": "ffe275c0-b568-40db-ae4d-90e218dae45c"
      },
      "execution_count": null,
      "outputs": [
        {
          "output_type": "stream",
          "name": "stdout",
          "text": [
            "[{'id': 1, 'firstname': 'Virgil', 'lastname': 'Stehr', 'email': 'warren35@hill.com', 'phone': '+3698784527141', 'birthday': '2005-02-21', 'gender': 'male', 'address': {'id': 0, 'street': '95268 Joelle Springs Suite 961', 'streetName': 'Walsh Parks', 'buildingNumber': '555', 'city': 'Zettaborough', 'zipcode': '33338-9954', 'country': 'Madagascar', 'county_code': 'MK', 'latitude': -81.016909, 'longitude': -170.106294}, 'website': 'http://treutel.com', 'image': 'http://placeimg.com/640/480/people'}]\n"
          ]
        }
      ]
    }
  ]
}